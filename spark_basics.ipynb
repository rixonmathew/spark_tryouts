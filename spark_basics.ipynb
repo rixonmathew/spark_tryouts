{
 "cells": [
  {
   "cell_type": "code",
   "execution_count": 2,
   "metadata": {},
   "outputs": [],
   "source": [
    "import findspark\n",
    "findspark.init()"
   ]
  },
  {
   "cell_type": "code",
   "execution_count": 4,
   "metadata": {},
   "outputs": [
    {
     "name": "stdout",
     "output_type": "stream",
     "text": [
      "+---+-------------+----+\n",
      "| id|         name| sal|\n",
      "+---+-------------+----+\n",
      "|101| Rixon Mathew| 100|\n",
      "|102|Roshan Mathew| 200|\n",
      "+---+-------------+----+\n",
      "\n"
     ]
    }
   ],
   "source": [
    "import pyspark\n",
    "from pyspark.sql import SparkSession\n",
    "\n",
    "spark = SparkSession.builder.getOrCreate()\n",
    "# test_json_df = spark.read.json(\"test.json\")\n",
    "# test_json_df.show()\n",
    "\n",
    "test_csv_df = spark.read.option(\"header\",\"true\").csv(\"test.csv\")\n",
    "test_csv_df.show()\n"
   ]
  }
 ],
 "metadata": {
  "kernelspec": {
   "display_name": "spark_tryouts",
   "language": "python",
   "name": "python3"
  },
  "language_info": {
   "codemirror_mode": {
    "name": "ipython",
    "version": 3
   },
   "file_extension": ".py",
   "mimetype": "text/x-python",
   "name": "python",
   "nbconvert_exporter": "python",
   "pygments_lexer": "ipython3",
   "version": "3.10.8"
  },
  "orig_nbformat": 4,
  "vscode": {
   "interpreter": {
    "hash": "9dcfdf006dc17c5059b564b76f71caeca8b6bf7cbf312b59f6f6bdd31ffed832"
   }
  }
 },
 "nbformat": 4,
 "nbformat_minor": 2
}
